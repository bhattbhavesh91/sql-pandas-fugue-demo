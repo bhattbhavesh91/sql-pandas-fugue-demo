{
  "nbformat": 4,
  "nbformat_minor": 0,
  "metadata": {
    "colab": {
      "name": "SQL_for_Pandas.ipynb",
      "provenance": [],
      "collapsed_sections": []
    },
    "kernelspec": {
      "name": "python3",
      "display_name": "Python 3"
    },
    "language_info": {
      "name": "python"
    }
  },
  "cells": [
    {
      "cell_type": "code",
      "metadata": {
        "id": "P67F8QhDTEBV"
      },
      "source": [
        "URL = \"https://en.wikipedia.org/wiki/List_of_players_who_have_scored_10,000_or_more_runs_in_One_Day_International_cricket\""
      ],
      "execution_count": null,
      "outputs": []
    },
    {
      "cell_type": "code",
      "metadata": {
        "id": "FSRletjgLgnk"
      },
      "source": [
        "import numpy as np\n",
        "import pandas as pd\n",
        "from copy import deepcopy"
      ],
      "execution_count": null,
      "outputs": []
    },
    {
      "cell_type": "code",
      "metadata": {
        "id": "8k-AVgh-Ln0v"
      },
      "source": [
        "tables = pd.read_html(URL)"
      ],
      "execution_count": null,
      "outputs": []
    },
    {
      "cell_type": "code",
      "metadata": {
        "colab": {
          "base_uri": "https://localhost:8080/"
        },
        "id": "N6JoESMDL5EU",
        "outputId": "6baf4a4c-7d75-4114-92ca-148fa9c34999"
      },
      "source": [
        "len(tables)"
      ],
      "execution_count": null,
      "outputs": [
        {
          "output_type": "execute_result",
          "data": {
            "text/plain": [
              "13"
            ]
          },
          "metadata": {},
          "execution_count": 4
        }
      ]
    },
    {
      "cell_type": "code",
      "metadata": {
        "colab": {
          "base_uri": "https://localhost:8080/"
        },
        "id": "YUqcPK4mMBAb",
        "outputId": "9b41eee2-a244-4f27-dca4-1dad8bc7aa3d"
      },
      "source": [
        "tables"
      ],
      "execution_count": null,
      "outputs": [
        {
          "output_type": "execute_result",
          "data": {
            "text/plain": [
              "[    No.                     Player  ...               Span[11] 10KI[11]\n",
              " 0     1       Sachin Tendulkar[13]  ...     11 years, 103 days      259\n",
              " 1     2    Kumar Sangakkara[b][14]  ...     11 years, 227 days      296\n",
              " 2     3       Ricky Ponting[c][15]  ...      12 years, 37 days      266\n",
              " 3     4   Sanath Jayasuriya[d][16]  ...     15 years, 226 days      328\n",
              " 4     5  Mahela Jayawardene[e][17]  ...     13 years, 289 days      333\n",
              " 5     6            Virat Kohli[18]  ...      10 years, 67 days      205\n",
              " 6     7         Inzamam-ul-Haq[19]  ...     12 years, 302 days      299\n",
              " 7     8      Jacques Kallis[f][20]  ...      13 years, 14 days      272\n",
              " 8     9      Sourav Ganguly[g][21]  ...  13 years, 204 days[h]      263\n",
              " 9    10        Rahul Dravid[i][25]  ...     10 years, 317 days      287\n",
              " 10   11            MS Dhoni[j][26]  ...     14 years, 159 days      273\n",
              " 11   12      Chris Gayle[k][l][27]  ...     19 years, 169 days      282\n",
              " 12   13          Brian Lara[m][28]  ...      16 years, 37 days      278\n",
              " 13   14   Tillakaratne Dilshan[29]  ...     15 years, 227 days      293\n",
              " \n",
              " [14 rows x 16 columns],           Teams  10,000 or more runs\n",
              " 0         India                    5\n",
              " 1     Sri Lanka                    4\n",
              " 2   West Indies                    2\n",
              " 3     Australia                    1\n",
              " 4      Pakistan                    1\n",
              " 5  South Africa                    1\n",
              " 6         Total                   14,   .mw-parser-output .navbar{display:inline;font-size:88%;font-weight:normal}.mw-parser-output .navbar-collapse{float:left;text-align:left}.mw-parser-output .navbar-boxtext{word-spacing:0}.mw-parser-output .navbar ul{display:inline-block;white-space:nowrap;line-height:inherit}.mw-parser-output .navbar-brackets::before{margin-right:-0.125em;content:\"[ \"}.mw-parser-output .navbar-brackets::after{margin-left:-0.125em;content:\" ]\"}.mw-parser-output .navbar li{word-spacing:-0.125em}.mw-parser-output .navbar-mini abbr{font-variant:small-caps;border-bottom:none;text-decoration:none;cursor:inherit}.mw-parser-output .navbar-ct-full{font-size:114%;margin:0 7em}.mw-parser-output .navbar-ct-mini{font-size:114%;margin:0 4em}.mw-parser-output .infobox .navbar{font-size:100%}.mw-parser-output .navbox .navbar{display:block;font-size:100%}.mw-parser-output .navbox-title .navbar{float:left;text-align:left;margin-right:0.5em}vteBatsmen with 10,000 or more runs in ODI cricket .mw-parser-output .navbar{display:inline;font-size:88%;font-weight:normal}.mw-parser-output .navbar-collapse{float:left;text-align:left}.mw-parser-output .navbar-boxtext{word-spacing:0}.mw-parser-output .navbar ul{display:inline-block;white-space:nowrap;line-height:inherit}.mw-parser-output .navbar-brackets::before{margin-right:-0.125em;content:\"[ \"}.mw-parser-output .navbar-brackets::after{margin-left:-0.125em;content:\" ]\"}.mw-parser-output .navbar li{word-spacing:-0.125em}.mw-parser-output .navbar-mini abbr{font-variant:small-caps;border-bottom:none;text-decoration:none;cursor:inherit}.mw-parser-output .navbar-ct-full{font-size:114%;margin:0 7em}.mw-parser-output .navbar-ct-mini{font-size:114%;margin:0 4em}.mw-parser-output .infobox .navbar{font-size:100%}.mw-parser-output .navbox .navbar{display:block;font-size:100%}.mw-parser-output .navbox-title .navbar{float:left;text-align:left;margin-right:0.5em}vteBatsmen with 10,000 or more runs in ODI cricket.1\n",
              " 0                                          Australia                                                                                                                                                                                                                                                                                                                                                                                                                                                                                                                                                                                                                                                                                                                                                                                                                                                                                                                                                                                  Ricky Ponting (13,704)                                                                                                                                                                                                                                                                                                                                                                                                                                                                                                                                                                                                                                                                                                                                                                                                                                                                                                                                                       \n",
              " 1                                              India                                                                                                                                                                                                                                                                                                                                                                                                                                                                                                                                                                                                                                                                                                                                                                                                                                                                                                                                                       Sachin Tendulkar (18,426) Virat Kohli (12,169)...                                                                                                                                                                                                                                                                                                                                                                                                                                                                                                                                                                                                                                                                                                                                                                                                                                                                                                                                                       \n",
              " 2                                           Pakistan                                                                                                                                                                                                                                                                                                                                                                                                                                                                                                                                                                                                                                                                                                                                                                                                                                                                                                                                                                                 Inzamam-ul-Haq (11,739)                                                                                                                                                                                                                                                                                                                                                                                                                                                                                                                                                                                                                                                                                                                                                                                                                                                                                                                                                       \n",
              " 3                                       South Africa                                                                                                                                                                                                                                                                                                                                                                                                                                                                                                                                                                                                                                                                                                                                                                                                                                                                                                                                                                                 Jacques Kallis (11,579)                                                                                                                                                                                                                                                                                                                                                                                                                                                                                                                                                                                                                                                                                                                                                                                                                                                                                                                                                       \n",
              " 4                                          Sri Lanka                                                                                                                                                                                                                                                                                                                                                                                                                                                                                                                                                                                                                                                                                                                                                                                                                                                                                                                                                       Kumar Sangakkara (14,234) Sanath Jayasuriya (1...                                                                                                                                                                                                                                                                                                                                                                                                                                                                                                                                                                                                                                                                                                                                                                                                                                                                                                                                                       \n",
              " 5                                        West Indies                                                                                                                                                                                                                                                                                                                                                                                                                                                                                                                                                                                                                                                                                                                                                                                                                                                                                                                                                                Chris Gayle (10,480) Brian Lara (10,405)                                                                                                                                                                                                                                                                                                                                                                                                                                                                                                                                                                                                                                                                                                                                                                                                                                                                                                                                                       \n",
              " 6             Current players are listed in italics.                                                                                                                                                                                                                                                                                                                                                                                                                                                                                                                                                                                                                                                                                                                                                                                                                                                                                                                                                                  Current players are listed in italics.                                                                                                                                                                                                                                                                                                                                                                                                                                                                                                                                                                                                                                                                                                                                                                                                                                                                                                                                                       ,                                    vteCricket records                               vteCricket records.1\n",
              " 0   Test recordsBy team Afghanistan Australia Bang...  Test recordsBy team Afghanistan Australia Bang...\n",
              " 1                                        Test records                                       Test records\n",
              " 2   By team Afghanistan Australia Bangladesh Engla...  By team Afghanistan Australia Bangladesh Engla...\n",
              " 3                                             By team  Afghanistan Australia Bangladesh England India...\n",
              " 4                                             Batting  Most career runs Triple centuries Centuries in...\n",
              " 5                                             Bowling  Most career wickets Five-wicket hauls on debut...\n",
              " 6   ODI recordsBy team Afghanistan Australia Bangl...  ODI recordsBy team Afghanistan Australia Bangl...\n",
              " 7                                         ODI records                                        ODI records\n",
              " 8   By team Afghanistan Australia Bangladesh Engla...  By team Afghanistan Australia Bangladesh Engla...\n",
              " 9                                             By team  Afghanistan Australia Bangladesh England India...\n",
              " 10                                            Batting  Most career runs Highest individual scores Cen...\n",
              " 11                                            Bowling  Most career wickets Hat-tricks Five-wicket hau...\n",
              " 12  T20I recordsBy team Afghanistan Australia Bang...  T20I recordsBy team Afghanistan Australia Bang...\n",
              " 13                                       T20I records                                       T20I records\n",
              " 14  By team Afghanistan Australia Bangladesh Engla...  By team Afghanistan Australia Bangladesh Engla...\n",
              " 15                                            By team  Afghanistan Australia Bangladesh England India...\n",
              " 16                                            Batting                                 Centuries 50 T20Is\n",
              " 17                                            Bowling                       Five-wicket hauls Hat-tricks\n",
              " 18  Miscellaneous records International centuries ...  Miscellaneous records International centuries ...\n",
              " 19                              Miscellaneous records                              Miscellaneous records\n",
              " 20  International centuries Career five-wicket hau...  International centuries Career five-wicket hau...\n",
              " 21  Women's cricketRecords WTest records WODI reco...  Women's cricketRecords WTest records WODI reco...\n",
              " 22                                    Women's cricket                                    Women's cricket\n",
              " 23  Records WTest records WODI records WT20I recor...  Records WTest records WODI records WT20I recor...\n",
              " 24                                            Records           WTest records WODI records WT20I records\n",
              " 25                                            Batting  WTest centuries WODI centuries WT20I centuries...\n",
              " 26                                            Bowling  WTest five-wicket hauls on debut WODI five-wic...,                                         Test records                                     Test records.1\n",
              " 0  By team Afghanistan Australia Bangladesh Engla...  By team Afghanistan Australia Bangladesh Engla...\n",
              " 1                                            By team  Afghanistan Australia Bangladesh England India...\n",
              " 2                                            Batting  Most career runs Triple centuries Centuries in...\n",
              " 3                                            Bowling  Most career wickets Five-wicket hauls on debut...,          0                                                  1\n",
              " 0  By team  Afghanistan Australia Bangladesh England India...\n",
              " 1  Batting  Most career runs Triple centuries Centuries in...\n",
              " 2  Bowling  Most career wickets Five-wicket hauls on debut...,                                          ODI records                                      ODI records.1\n",
              " 0  By team Afghanistan Australia Bangladesh Engla...  By team Afghanistan Australia Bangladesh Engla...\n",
              " 1                                            By team  Afghanistan Australia Bangladesh England India...\n",
              " 2                                            Batting  Most career runs Highest individual scores Cen...\n",
              " 3                                            Bowling  Most career wickets Hat-tricks Five-wicket hau...,          0                                                  1\n",
              " 0  By team  Afghanistan Australia Bangladesh England India...\n",
              " 1  Batting  Most career runs Highest individual scores Cen...\n",
              " 2  Bowling  Most career wickets Hat-tricks Five-wicket hau...,                                         T20I records                                     T20I records.1\n",
              " 0  By team Afghanistan Australia Bangladesh Engla...  By team Afghanistan Australia Bangladesh Engla...\n",
              " 1                                            By team  Afghanistan Australia Bangladesh England India...\n",
              " 2                                            Batting                                 Centuries 50 T20Is\n",
              " 3                                            Bowling                       Five-wicket hauls Hat-tricks,          0                                                  1\n",
              " 0  By team  Afghanistan Australia Bangladesh England India...\n",
              " 1  Batting                                 Centuries 50 T20Is\n",
              " 2  Bowling                       Five-wicket hauls Hat-tricks,                                Miscellaneous records                            Miscellaneous records.1\n",
              " 0  International centuries Career five-wicket hau...  International centuries Career five-wicket hau...,                                      Women's cricket                                  Women's cricket.1\n",
              " 0  Records WTest records WODI records WT20I recor...  Records WTest records WODI records WT20I recor...\n",
              " 1                                            Records           WTest records WODI records WT20I records\n",
              " 2                                            Batting  WTest centuries WODI centuries WT20I centuries...\n",
              " 3                                            Bowling  WTest five-wicket hauls on debut WODI five-wic...,          0                                                  1\n",
              " 0  Records           WTest records WODI records WT20I records\n",
              " 1  Batting  WTest centuries WODI centuries WT20I centuries...\n",
              " 2  Bowling  WTest five-wicket hauls on debut WODI five-wic...]"
            ]
          },
          "metadata": {},
          "execution_count": 5
        }
      ]
    },
    {
      "cell_type": "code",
      "metadata": {
        "id": "R_VVqS5pMEtp"
      },
      "source": [
        "data = tables[0]"
      ],
      "execution_count": null,
      "outputs": []
    },
    {
      "cell_type": "code",
      "metadata": {
        "colab": {
          "base_uri": "https://localhost:8080/",
          "height": 924
        },
        "id": "5ZPlork8MNX_",
        "outputId": "6d4d9358-7aa9-4878-a64e-f9cfeb1fd1f9"
      },
      "source": [
        "data"
      ],
      "execution_count": null,
      "outputs": [
        {
          "output_type": "execute_result",
          "data": {
            "text/html": [
              "<div>\n",
              "<style scoped>\n",
              "    .dataframe tbody tr th:only-of-type {\n",
              "        vertical-align: middle;\n",
              "    }\n",
              "\n",
              "    .dataframe tbody tr th {\n",
              "        vertical-align: top;\n",
              "    }\n",
              "\n",
              "    .dataframe thead th {\n",
              "        text-align: right;\n",
              "    }\n",
              "</style>\n",
              "<table border=\"1\" class=\"dataframe\">\n",
              "  <thead>\n",
              "    <tr style=\"text-align: right;\">\n",
              "      <th></th>\n",
              "      <th>No.</th>\n",
              "      <th>Player</th>\n",
              "      <th>Portrait</th>\n",
              "      <th>Team</th>\n",
              "      <th>First</th>\n",
              "      <th>Last</th>\n",
              "      <th>Mat.</th>\n",
              "      <th>Inn.</th>\n",
              "      <th>Runs</th>\n",
              "      <th>Avg.</th>\n",
              "      <th>S/R</th>\n",
              "      <th>100s</th>\n",
              "      <th>50s</th>\n",
              "      <th>Date[11]</th>\n",
              "      <th>Span[11]</th>\n",
              "      <th>10KI[11]</th>\n",
              "    </tr>\n",
              "  </thead>\n",
              "  <tbody>\n",
              "    <tr>\n",
              "      <th>0</th>\n",
              "      <td>1</td>\n",
              "      <td>Sachin Tendulkar[13]</td>\n",
              "      <td>NaN</td>\n",
              "      <td>India</td>\n",
              "      <td>1989</td>\n",
              "      <td>2012</td>\n",
              "      <td>463</td>\n",
              "      <td>452</td>\n",
              "      <td>18426</td>\n",
              "      <td>44.83</td>\n",
              "      <td>86.23</td>\n",
              "      <td>49</td>\n",
              "      <td>96</td>\n",
              "      <td>31 March 2001</td>\n",
              "      <td>11 years, 103 days</td>\n",
              "      <td>259</td>\n",
              "    </tr>\n",
              "    <tr>\n",
              "      <th>1</th>\n",
              "      <td>2</td>\n",
              "      <td>Kumar Sangakkara[b][14]</td>\n",
              "      <td>NaN</td>\n",
              "      <td>Sri Lanka</td>\n",
              "      <td>2000</td>\n",
              "      <td>2015</td>\n",
              "      <td>404</td>\n",
              "      <td>380</td>\n",
              "      <td>14234</td>\n",
              "      <td>41.98</td>\n",
              "      <td>78.88</td>\n",
              "      <td>25</td>\n",
              "      <td>93</td>\n",
              "      <td>17 February 2012</td>\n",
              "      <td>11 years, 227 days</td>\n",
              "      <td>296</td>\n",
              "    </tr>\n",
              "    <tr>\n",
              "      <th>2</th>\n",
              "      <td>3</td>\n",
              "      <td>Ricky Ponting[c][15]</td>\n",
              "      <td>NaN</td>\n",
              "      <td>Australia</td>\n",
              "      <td>1995</td>\n",
              "      <td>2012</td>\n",
              "      <td>375</td>\n",
              "      <td>365</td>\n",
              "      <td>13704</td>\n",
              "      <td>42.03</td>\n",
              "      <td>80.39</td>\n",
              "      <td>30</td>\n",
              "      <td>82</td>\n",
              "      <td>24 March 2007</td>\n",
              "      <td>12 years, 37 days</td>\n",
              "      <td>266</td>\n",
              "    </tr>\n",
              "    <tr>\n",
              "      <th>3</th>\n",
              "      <td>4</td>\n",
              "      <td>Sanath Jayasuriya[d][16]</td>\n",
              "      <td>NaN</td>\n",
              "      <td>Sri Lanka</td>\n",
              "      <td>1989</td>\n",
              "      <td>2011</td>\n",
              "      <td>445</td>\n",
              "      <td>433</td>\n",
              "      <td>13430</td>\n",
              "      <td>32.36</td>\n",
              "      <td>91.20</td>\n",
              "      <td>28</td>\n",
              "      <td>68</td>\n",
              "      <td>9 August 2005</td>\n",
              "      <td>15 years, 226 days</td>\n",
              "      <td>328</td>\n",
              "    </tr>\n",
              "    <tr>\n",
              "      <th>4</th>\n",
              "      <td>5</td>\n",
              "      <td>Mahela Jayawardene[e][17]</td>\n",
              "      <td>NaN</td>\n",
              "      <td>Sri Lanka</td>\n",
              "      <td>1998</td>\n",
              "      <td>2015</td>\n",
              "      <td>448</td>\n",
              "      <td>418</td>\n",
              "      <td>12650</td>\n",
              "      <td>33.01</td>\n",
              "      <td>78.67</td>\n",
              "      <td>19</td>\n",
              "      <td>77</td>\n",
              "      <td>18 November 2011</td>\n",
              "      <td>13 years, 289 days</td>\n",
              "      <td>333</td>\n",
              "    </tr>\n",
              "    <tr>\n",
              "      <th>5</th>\n",
              "      <td>6</td>\n",
              "      <td>Virat Kohli[18]</td>\n",
              "      <td>NaN</td>\n",
              "      <td>India</td>\n",
              "      <td>2008</td>\n",
              "      <td>2021</td>\n",
              "      <td>254</td>\n",
              "      <td>245</td>\n",
              "      <td>12169</td>\n",
              "      <td>59.07</td>\n",
              "      <td>93.17</td>\n",
              "      <td>43</td>\n",
              "      <td>62</td>\n",
              "      <td>24 October 2018</td>\n",
              "      <td>10 years, 67 days</td>\n",
              "      <td>205</td>\n",
              "    </tr>\n",
              "    <tr>\n",
              "      <th>6</th>\n",
              "      <td>7</td>\n",
              "      <td>Inzamam-ul-Haq[19]</td>\n",
              "      <td>NaN</td>\n",
              "      <td>Pakistan</td>\n",
              "      <td>1991</td>\n",
              "      <td>2007</td>\n",
              "      <td>378</td>\n",
              "      <td>350</td>\n",
              "      <td>11739</td>\n",
              "      <td>39.52</td>\n",
              "      <td>74.24</td>\n",
              "      <td>10</td>\n",
              "      <td>83</td>\n",
              "      <td>19 September 2004</td>\n",
              "      <td>12 years, 302 days</td>\n",
              "      <td>299</td>\n",
              "    </tr>\n",
              "    <tr>\n",
              "      <th>7</th>\n",
              "      <td>8</td>\n",
              "      <td>Jacques Kallis[f][20]</td>\n",
              "      <td>NaN</td>\n",
              "      <td>South Africa</td>\n",
              "      <td>1996</td>\n",
              "      <td>2014</td>\n",
              "      <td>328</td>\n",
              "      <td>314</td>\n",
              "      <td>11579</td>\n",
              "      <td>44.36</td>\n",
              "      <td>72.89</td>\n",
              "      <td>17</td>\n",
              "      <td>86</td>\n",
              "      <td>23 January 2009</td>\n",
              "      <td>13 years, 14 days</td>\n",
              "      <td>272</td>\n",
              "    </tr>\n",
              "    <tr>\n",
              "      <th>8</th>\n",
              "      <td>9</td>\n",
              "      <td>Sourav Ganguly[g][21]</td>\n",
              "      <td>NaN</td>\n",
              "      <td>India</td>\n",
              "      <td>1996</td>\n",
              "      <td>2007</td>\n",
              "      <td>311</td>\n",
              "      <td>300</td>\n",
              "      <td>11363</td>\n",
              "      <td>41.02</td>\n",
              "      <td>73.70</td>\n",
              "      <td>22</td>\n",
              "      <td>72</td>\n",
              "      <td>3 August 2005</td>\n",
              "      <td>13 years, 204 days[h]</td>\n",
              "      <td>263</td>\n",
              "    </tr>\n",
              "    <tr>\n",
              "      <th>9</th>\n",
              "      <td>10</td>\n",
              "      <td>Rahul Dravid[i][25]</td>\n",
              "      <td>NaN</td>\n",
              "      <td>India</td>\n",
              "      <td>1996</td>\n",
              "      <td>2011</td>\n",
              "      <td>344</td>\n",
              "      <td>318</td>\n",
              "      <td>10889</td>\n",
              "      <td>39.16</td>\n",
              "      <td>71.24</td>\n",
              "      <td>12</td>\n",
              "      <td>83</td>\n",
              "      <td>14 February 2007</td>\n",
              "      <td>10 years, 317 days</td>\n",
              "      <td>287</td>\n",
              "    </tr>\n",
              "    <tr>\n",
              "      <th>10</th>\n",
              "      <td>11</td>\n",
              "      <td>MS Dhoni[j][26]</td>\n",
              "      <td>NaN</td>\n",
              "      <td>India</td>\n",
              "      <td>2004</td>\n",
              "      <td>2019</td>\n",
              "      <td>350</td>\n",
              "      <td>297</td>\n",
              "      <td>10773</td>\n",
              "      <td>50.57</td>\n",
              "      <td>87.56</td>\n",
              "      <td>10</td>\n",
              "      <td>73</td>\n",
              "      <td>14 July 2018</td>\n",
              "      <td>14 years, 159 days</td>\n",
              "      <td>273</td>\n",
              "    </tr>\n",
              "    <tr>\n",
              "      <th>11</th>\n",
              "      <td>12</td>\n",
              "      <td>Chris Gayle[k][l][27]</td>\n",
              "      <td>NaN</td>\n",
              "      <td>West Indies</td>\n",
              "      <td>1999</td>\n",
              "      <td>2019</td>\n",
              "      <td>301</td>\n",
              "      <td>294</td>\n",
              "      <td>10480</td>\n",
              "      <td>37.83</td>\n",
              "      <td>87.19</td>\n",
              "      <td>25</td>\n",
              "      <td>54</td>\n",
              "      <td>27 February 2019</td>\n",
              "      <td>19 years, 169 days</td>\n",
              "      <td>282</td>\n",
              "    </tr>\n",
              "    <tr>\n",
              "      <th>12</th>\n",
              "      <td>13</td>\n",
              "      <td>Brian Lara[m][28]</td>\n",
              "      <td>NaN</td>\n",
              "      <td>West Indies</td>\n",
              "      <td>1990</td>\n",
              "      <td>2007</td>\n",
              "      <td>299</td>\n",
              "      <td>289</td>\n",
              "      <td>10405</td>\n",
              "      <td>40.48</td>\n",
              "      <td>79.51</td>\n",
              "      <td>19</td>\n",
              "      <td>63</td>\n",
              "      <td>16 December 2006</td>\n",
              "      <td>16 years, 37 days</td>\n",
              "      <td>278</td>\n",
              "    </tr>\n",
              "    <tr>\n",
              "      <th>13</th>\n",
              "      <td>14</td>\n",
              "      <td>Tillakaratne Dilshan[29]</td>\n",
              "      <td>NaN</td>\n",
              "      <td>Sri Lanka</td>\n",
              "      <td>1999</td>\n",
              "      <td>2015</td>\n",
              "      <td>330</td>\n",
              "      <td>303</td>\n",
              "      <td>10290</td>\n",
              "      <td>39.27</td>\n",
              "      <td>86.23</td>\n",
              "      <td>22</td>\n",
              "      <td>47</td>\n",
              "      <td>26 July 2015</td>\n",
              "      <td>15 years, 227 days</td>\n",
              "      <td>293</td>\n",
              "    </tr>\n",
              "  </tbody>\n",
              "</table>\n",
              "</div>"
            ],
            "text/plain": [
              "    No.                     Player  ...               Span[11] 10KI[11]\n",
              "0     1       Sachin Tendulkar[13]  ...     11 years, 103 days      259\n",
              "1     2    Kumar Sangakkara[b][14]  ...     11 years, 227 days      296\n",
              "2     3       Ricky Ponting[c][15]  ...      12 years, 37 days      266\n",
              "3     4   Sanath Jayasuriya[d][16]  ...     15 years, 226 days      328\n",
              "4     5  Mahela Jayawardene[e][17]  ...     13 years, 289 days      333\n",
              "5     6            Virat Kohli[18]  ...      10 years, 67 days      205\n",
              "6     7         Inzamam-ul-Haq[19]  ...     12 years, 302 days      299\n",
              "7     8      Jacques Kallis[f][20]  ...      13 years, 14 days      272\n",
              "8     9      Sourav Ganguly[g][21]  ...  13 years, 204 days[h]      263\n",
              "9    10        Rahul Dravid[i][25]  ...     10 years, 317 days      287\n",
              "10   11            MS Dhoni[j][26]  ...     14 years, 159 days      273\n",
              "11   12      Chris Gayle[k][l][27]  ...     19 years, 169 days      282\n",
              "12   13          Brian Lara[m][28]  ...      16 years, 37 days      278\n",
              "13   14   Tillakaratne Dilshan[29]  ...     15 years, 227 days      293\n",
              "\n",
              "[14 rows x 16 columns]"
            ]
          },
          "metadata": {},
          "execution_count": 7
        }
      ]
    },
    {
      "cell_type": "code",
      "metadata": {
        "id": "l_RtbwUWMOX1"
      },
      "source": [
        "df = deepcopy(data[[\"Player\", \"Team\", \"Runs\"]])"
      ],
      "execution_count": null,
      "outputs": []
    },
    {
      "cell_type": "code",
      "metadata": {
        "colab": {
          "base_uri": "https://localhost:8080/",
          "height": 488
        },
        "id": "eLdTNhiZMhFk",
        "outputId": "32b64369-1845-4a37-da12-874ac2fac132"
      },
      "source": [
        "df"
      ],
      "execution_count": null,
      "outputs": [
        {
          "output_type": "execute_result",
          "data": {
            "text/html": [
              "<div>\n",
              "<style scoped>\n",
              "    .dataframe tbody tr th:only-of-type {\n",
              "        vertical-align: middle;\n",
              "    }\n",
              "\n",
              "    .dataframe tbody tr th {\n",
              "        vertical-align: top;\n",
              "    }\n",
              "\n",
              "    .dataframe thead th {\n",
              "        text-align: right;\n",
              "    }\n",
              "</style>\n",
              "<table border=\"1\" class=\"dataframe\">\n",
              "  <thead>\n",
              "    <tr style=\"text-align: right;\">\n",
              "      <th></th>\n",
              "      <th>Player</th>\n",
              "      <th>Team</th>\n",
              "      <th>Runs</th>\n",
              "    </tr>\n",
              "  </thead>\n",
              "  <tbody>\n",
              "    <tr>\n",
              "      <th>0</th>\n",
              "      <td>Sachin Tendulkar[13]</td>\n",
              "      <td>India</td>\n",
              "      <td>18426</td>\n",
              "    </tr>\n",
              "    <tr>\n",
              "      <th>1</th>\n",
              "      <td>Kumar Sangakkara[b][14]</td>\n",
              "      <td>Sri Lanka</td>\n",
              "      <td>14234</td>\n",
              "    </tr>\n",
              "    <tr>\n",
              "      <th>2</th>\n",
              "      <td>Ricky Ponting[c][15]</td>\n",
              "      <td>Australia</td>\n",
              "      <td>13704</td>\n",
              "    </tr>\n",
              "    <tr>\n",
              "      <th>3</th>\n",
              "      <td>Sanath Jayasuriya[d][16]</td>\n",
              "      <td>Sri Lanka</td>\n",
              "      <td>13430</td>\n",
              "    </tr>\n",
              "    <tr>\n",
              "      <th>4</th>\n",
              "      <td>Mahela Jayawardene[e][17]</td>\n",
              "      <td>Sri Lanka</td>\n",
              "      <td>12650</td>\n",
              "    </tr>\n",
              "    <tr>\n",
              "      <th>5</th>\n",
              "      <td>Virat Kohli[18]</td>\n",
              "      <td>India</td>\n",
              "      <td>12169</td>\n",
              "    </tr>\n",
              "    <tr>\n",
              "      <th>6</th>\n",
              "      <td>Inzamam-ul-Haq[19]</td>\n",
              "      <td>Pakistan</td>\n",
              "      <td>11739</td>\n",
              "    </tr>\n",
              "    <tr>\n",
              "      <th>7</th>\n",
              "      <td>Jacques Kallis[f][20]</td>\n",
              "      <td>South Africa</td>\n",
              "      <td>11579</td>\n",
              "    </tr>\n",
              "    <tr>\n",
              "      <th>8</th>\n",
              "      <td>Sourav Ganguly[g][21]</td>\n",
              "      <td>India</td>\n",
              "      <td>11363</td>\n",
              "    </tr>\n",
              "    <tr>\n",
              "      <th>9</th>\n",
              "      <td>Rahul Dravid[i][25]</td>\n",
              "      <td>India</td>\n",
              "      <td>10889</td>\n",
              "    </tr>\n",
              "    <tr>\n",
              "      <th>10</th>\n",
              "      <td>MS Dhoni[j][26]</td>\n",
              "      <td>India</td>\n",
              "      <td>10773</td>\n",
              "    </tr>\n",
              "    <tr>\n",
              "      <th>11</th>\n",
              "      <td>Chris Gayle[k][l][27]</td>\n",
              "      <td>West Indies</td>\n",
              "      <td>10480</td>\n",
              "    </tr>\n",
              "    <tr>\n",
              "      <th>12</th>\n",
              "      <td>Brian Lara[m][28]</td>\n",
              "      <td>West Indies</td>\n",
              "      <td>10405</td>\n",
              "    </tr>\n",
              "    <tr>\n",
              "      <th>13</th>\n",
              "      <td>Tillakaratne Dilshan[29]</td>\n",
              "      <td>Sri Lanka</td>\n",
              "      <td>10290</td>\n",
              "    </tr>\n",
              "  </tbody>\n",
              "</table>\n",
              "</div>"
            ],
            "text/plain": [
              "                       Player          Team   Runs\n",
              "0        Sachin Tendulkar[13]         India  18426\n",
              "1     Kumar Sangakkara[b][14]     Sri Lanka  14234\n",
              "2        Ricky Ponting[c][15]     Australia  13704\n",
              "3    Sanath Jayasuriya[d][16]     Sri Lanka  13430\n",
              "4   Mahela Jayawardene[e][17]     Sri Lanka  12650\n",
              "5             Virat Kohli[18]         India  12169\n",
              "6          Inzamam-ul-Haq[19]      Pakistan  11739\n",
              "7       Jacques Kallis[f][20]  South Africa  11579\n",
              "8       Sourav Ganguly[g][21]         India  11363\n",
              "9         Rahul Dravid[i][25]         India  10889\n",
              "10            MS Dhoni[j][26]         India  10773\n",
              "11      Chris Gayle[k][l][27]   West Indies  10480\n",
              "12          Brian Lara[m][28]   West Indies  10405\n",
              "13   Tillakaratne Dilshan[29]     Sri Lanka  10290"
            ]
          },
          "metadata": {},
          "execution_count": 9
        }
      ]
    },
    {
      "cell_type": "code",
      "metadata": {
        "colab": {
          "base_uri": "https://localhost:8080/"
        },
        "id": "2_Aw2J-vMiKY",
        "outputId": "996e08c6-566e-4f0d-e32e-8e65ed609a10"
      },
      "source": [
        "!pip install -q fugue[sql]"
      ],
      "execution_count": null,
      "outputs": [
        {
          "output_type": "stream",
          "name": "stdout",
          "text": [
            "\u001b[K     |████████████████████████████████| 405 kB 7.4 MB/s \n",
            "\u001b[K     |████████████████████████████████| 54 kB 3.5 MB/s \n",
            "\u001b[K     |████████████████████████████████| 194 kB 80.0 MB/s \n",
            "\u001b[K     |████████████████████████████████| 117 kB 74.0 MB/s \n",
            "\u001b[K     |████████████████████████████████| 131 kB 81.4 MB/s \n",
            "\u001b[?25h  Installing build dependencies ... \u001b[?25l\u001b[?25hdone\n",
            "  Getting requirements to build wheel ... \u001b[?25l\u001b[?25hdone\n",
            "    Preparing wheel metadata ... \u001b[?25l\u001b[?25hdone\n",
            "  Building wheel for antlr4-python3-runtime (setup.py) ... \u001b[?25l\u001b[?25hdone\n",
            "  Building wheel for ciso8601 (PEP 517) ... \u001b[?25l\u001b[?25hdone\n"
          ]
        }
      ]
    },
    {
      "cell_type": "code",
      "metadata": {
        "id": "Xb4jblRLM4Ue"
      },
      "source": [
        "from fugue_sql import fsql"
      ],
      "execution_count": null,
      "outputs": []
    },
    {
      "cell_type": "code",
      "metadata": {
        "id": "ovKi1ssBOXu4"
      },
      "source": [
        "query_1 = \"\"\"\n",
        "SELECT * FROM df\n",
        "PRINT\n",
        "\"\"\""
      ],
      "execution_count": null,
      "outputs": []
    },
    {
      "cell_type": "code",
      "metadata": {
        "colab": {
          "base_uri": "https://localhost:8080/"
        },
        "id": "cxWnQYIQOXyJ",
        "outputId": "c48a1234-c1f4-41b1-d463-4928ad4e17e2"
      },
      "source": [
        "fsql(query_1).run()"
      ],
      "execution_count": null,
      "outputs": [
        {
          "output_type": "stream",
          "name": "stdout",
          "text": [
            "PandasDataFrame\n",
            "Player:str                                             |Team:str              |Runs:long\n",
            "-------------------------------------------------------+----------------------+---------\n",
            "Sachin Tendulkar[13]                                   |India                 |18426    \n",
            "Kumar Sangakkara[b][14]                                |Sri Lanka             |14234    \n",
            "Ricky Ponting[c][15]                                   |Australia             |13704    \n",
            "Sanath Jayasuriya[d][16]                               |Sri Lanka             |13430    \n",
            "Mahela Jayawardene[e][17]                              |Sri Lanka             |12650    \n",
            "Virat Kohli[18]                                        |India                 |12169    \n",
            "Inzamam-ul-Haq[19]                                     |Pakistan              |11739    \n",
            "Jacques Kallis[f][20]                                  |South Africa          |11579    \n",
            "Sourav Ganguly[g][21]                                  |India                 |11363    \n",
            "Rahul Dravid[i][25]                                    |India                 |10889    \n"
          ]
        },
        {
          "output_type": "execute_result",
          "data": {
            "text/plain": [
              "DataFrames()"
            ]
          },
          "metadata": {},
          "execution_count": 14
        }
      ]
    },
    {
      "cell_type": "code",
      "metadata": {
        "id": "5g5jNumjOX1Y"
      },
      "source": [
        "query_2 = \"\"\"\n",
        "SELECT Player FROM df\n",
        "WHERE Team == \"India\"\n",
        "PRINT\n",
        "\"\"\""
      ],
      "execution_count": null,
      "outputs": []
    },
    {
      "cell_type": "code",
      "metadata": {
        "colab": {
          "base_uri": "https://localhost:8080/"
        },
        "id": "mmbRDInxOX4R",
        "outputId": "187d9a24-4774-4d78-ecdf-0cc94732821c"
      },
      "source": [
        "fsql(query_2).run()"
      ],
      "execution_count": null,
      "outputs": [
        {
          "output_type": "stream",
          "name": "stdout",
          "text": [
            "PandasDataFrame\n",
            "Player:str                                                                                          \n",
            "----------------------------------------------------------------------------------------------------\n",
            "Sachin Tendulkar[13]                                                                                \n",
            "Virat Kohli[18]                                                                                     \n",
            "Sourav Ganguly[g][21]                                                                               \n",
            "Rahul Dravid[i][25]                                                                                 \n",
            "MS Dhoni[j][26]                                                                                     \n",
            "Total count: 5\n",
            "\n"
          ]
        },
        {
          "output_type": "execute_result",
          "data": {
            "text/plain": [
              "DataFrames()"
            ]
          },
          "metadata": {},
          "execution_count": 16
        }
      ]
    },
    {
      "cell_type": "code",
      "metadata": {
        "id": "0zw_tTO9Nawn"
      },
      "source": [
        "query_3 = \"\"\"\n",
        "SELECT Team, Count(*) FROM df\n",
        "GROUP BY Team\n",
        "PRINT\n",
        "\"\"\""
      ],
      "execution_count": null,
      "outputs": []
    },
    {
      "cell_type": "code",
      "metadata": {
        "colab": {
          "base_uri": "https://localhost:8080/"
        },
        "id": "B7WrLaJJP4U0",
        "outputId": "a3c7d584-7b0a-40ef-e12f-fe173a82325d"
      },
      "source": [
        "fsql(query_3).run()"
      ],
      "execution_count": null,
      "outputs": [
        {
          "output_type": "stream",
          "name": "stdout",
          "text": [
            "PandasDataFrame\n",
            "Team:str                                                                         |_8f4d553e15f3:long\n",
            "---------------------------------------------------------------------------------+------------------\n",
            "Australia                                                                        |1                 \n",
            "India                                                                            |5                 \n",
            "Pakistan                                                                         |1                 \n",
            "South Africa                                                                     |1                 \n",
            "Sri Lanka                                                                        |4                 \n",
            "West Indies                                                                      |2                 \n",
            "Total count: 6\n",
            "\n"
          ]
        },
        {
          "output_type": "execute_result",
          "data": {
            "text/plain": [
              "DataFrames()"
            ]
          },
          "metadata": {},
          "execution_count": 18
        }
      ]
    },
    {
      "cell_type": "code",
      "metadata": {
        "colab": {
          "base_uri": "https://localhost:8080/"
        },
        "id": "JeovcHhxP7kN",
        "outputId": "cfef73a0-e80d-41c5-ad6e-4d162456a8a1"
      },
      "source": [
        "import fugue_sql\n",
        "print(fugue_sql.__version__)"
      ],
      "execution_count": null,
      "outputs": [
        {
          "output_type": "stream",
          "name": "stdout",
          "text": [
            "0.6.3\n"
          ]
        }
      ]
    },
    {
      "cell_type": "code",
      "metadata": {
        "id": "F3oqiubIQjjm"
      },
      "source": [
        ""
      ],
      "execution_count": null,
      "outputs": []
    }
  ]
}